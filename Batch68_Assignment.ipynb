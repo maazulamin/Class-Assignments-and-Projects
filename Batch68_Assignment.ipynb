{
  "nbformat": 4,
  "nbformat_minor": 0,
  "metadata": {
    "colab": {
      "provenance": [],
      "authorship_tag": "ABX9TyNh7/hKUwIEaKTrDy17wN6p",
      "include_colab_link": true
    },
    "kernelspec": {
      "name": "python3",
      "display_name": "Python 3"
    },
    "language_info": {
      "name": "python"
    }
  },
  "cells": [
    {
      "cell_type": "markdown",
      "metadata": {
        "id": "view-in-github",
        "colab_type": "text"
      },
      "source": [
        "<a href=\"https://colab.research.google.com/github/maazulamin/Class-Assignments-and-Projects/blob/main/Batch68_Assignment.ipynb\" target=\"_parent\"><img src=\"https://colab.research.google.com/assets/colab-badge.svg\" alt=\"Open In Colab\"/></a>"
      ]
    },
    {
      "cell_type": "markdown",
      "source": [
        "1. Write a Python program to print \"Hello, World!\".\n"
      ],
      "metadata": {
        "id": "tT-ukljniDvA"
      }
    },
    {
      "cell_type": "code",
      "execution_count": 2,
      "metadata": {
        "colab": {
          "base_uri": "https://localhost:8080/"
        },
        "id": "gdTkd40oh-aq",
        "outputId": "05344e2b-6372-4277-84d1-ee795a8d66f9"
      },
      "outputs": [
        {
          "output_type": "stream",
          "name": "stdout",
          "text": [
            "Hello, World!\n"
          ]
        }
      ],
      "source": [
        "print(\"Hello, World!\")"
      ]
    },
    {
      "cell_type": "markdown",
      "source": [
        "2. Write a program to get first name and last name from the user, concatenate the them by using string concatenation and print the full name. hint: use input() function to get the input from the user.\n"
      ],
      "metadata": {
        "id": "Po5mPKOmilot"
      }
    },
    {
      "cell_type": "code",
      "source": [
        "first_name = input(\"Enter your First Name: \")\n",
        "last_name = input(\"Enter your Last Name: \")\n",
        "full_name = first_name + last_name\n",
        "print(\"Full Name:\", full_name)"
      ],
      "metadata": {
        "colab": {
          "base_uri": "https://localhost:8080/"
        },
        "id": "YYKoLIqxiL0M",
        "outputId": "758429a6-a0c0-4b9a-b86c-2249d2d2fcfc"
      },
      "execution_count": 4,
      "outputs": [
        {
          "output_type": "stream",
          "name": "stdout",
          "text": [
            "Enter your First Name: Maaz\n",
            "Enter your Last Name: Khan\n",
            "Full Name: MaazKhan\n"
          ]
        }
      ]
    },
    {
      "cell_type": "markdown",
      "source": [
        "3.  Create a simple calculator without using ChatGPT or Gemini.\n",
        "\n",
        "\n",
        "\n"
      ],
      "metadata": {
        "id": "5-oO7_H5jk3G"
      }
    },
    {
      "cell_type": "code",
      "source": [
        "num1 = float(input(\"Enter Number 1: \"))\n",
        "num2 = float(input(\"Enter Number 2: \"))\n",
        "\n",
        "addition = num1 + num2\n",
        "subtraction = num1 - num2\n",
        "multiplication = num1 * num2\n",
        "division = num1 / num2\n",
        "modulus = num1 % num2\n",
        "exponentiation = num1 ** num2\n",
        "floor_division = num1 // num2\n",
        "\n",
        "print(f\"The sum of {num1} and {num2} is {addition} \\nThe difference of {num1} and {num2} is {subtraction} \\nThe multiplication of {num1} and {num2} is {multiplication} \\nThe division of {num1} and {num2} is {division} \\nThe modulus of {num1} and {num2} is {modulus} \\nThe exponentiation of {num1} and {num2} is {exponentiation} \\nThe floor_division of {num1} and {num2} is {floor_division}\")"
      ],
      "metadata": {
        "colab": {
          "base_uri": "https://localhost:8080/"
        },
        "id": "x8dYwPTVjIlt",
        "outputId": "b0f144ab-e6ea-4e82-a896-d634549c29c3"
      },
      "execution_count": 9,
      "outputs": [
        {
          "output_type": "stream",
          "name": "stdout",
          "text": [
            "Enter Number 1: 6\n",
            "Enter Number 2: 8\n",
            "The sum of 6.0 and 8.0 is 14.0 \n",
            "The difference of 6.0 and 8.0 is -2.0 \n",
            "The multiplication of 6.0 and 8.0 is 48.0 \n",
            "The division of 6.0 and 8.0 is 0.75 \n",
            "The modulus of 6.0 and 8.0 is 6.0 \n",
            "The exponentiation of 6.0 and 8.0 is 1679616.0 \n",
            "The floor_division of 6.0 and 8.0 is 0.0\n"
          ]
        }
      ]
    },
    {
      "cell_type": "markdown",
      "source": [
        "4.  Write a python program which takes student name, roll number, class venue and class schedule from the user. Draft a email message to send to the student using fstring and .format() method. Print the message."
      ],
      "metadata": {
        "id": "ym3VN1B2nsUm"
      }
    },
    {
      "cell_type": "code",
      "source": [
        "student_name = input(\"Enter Student Name: \")\n",
        "roll_number = input(\"Enter Roll Number: \")\n",
        "class_venue = input(\"Enter Class Venue: \")\n",
        "class_schedule = input(\"Enter Class Schedule: \")\n",
        "email = f\"Dear {student_name}, \\nThank you for registering in the Python Programming course in PIAIC. Your roll number is {roll_number}. Your classes will be held in the {class_venue} on {class_schedule}.\"\n",
        "print(email)"
      ],
      "metadata": {
        "colab": {
          "base_uri": "https://localhost:8080/"
        },
        "id": "CjVM3S4Hjn-G",
        "outputId": "5f14afa6-c53f-411a-bfa9-9a68139a894a"
      },
      "execution_count": 11,
      "outputs": [
        {
          "output_type": "stream",
          "name": "stdout",
          "text": [
            "Enter Student Name: Maaz Ul Amin\n",
            "Enter Roll Number: 1234\n",
            "Enter Class Venue: Auditorium, Air University\n",
            "Enter Class Schedule: Sat, 2 to 6 PM\n",
            "Dear Maaz Ul Amin,
            Thank you for registering in the Python Programming course in PIAIC. Your roll number is 1234. \n
            Your classes will be held in the Auditorium, Air University on Sat, 2 to 6 PM."
          ]
        }
      ]
    },
    {
      "cell_type": "code",
      "source": [],
      "metadata": {
        "id": "8t8m183oowfe"
      },
      "execution_count": null,
      "outputs": []
    }
  ]
}
